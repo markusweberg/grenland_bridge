{
 "cells": [
  {
   "cell_type": "code",
   "execution_count": 1,
   "metadata": {},
   "outputs": [],
   "source": [
    "import numpy as np\n",
    "import pandas as pd\n",
    "import matplotlib.pyplot as plt\n",
    "import scipy.signal as scs\n",
    "import scipy.linalg as spla\n",
    "\n",
    "import koma.oma\n",
    "import koma.plot\n",
    "import koma.clustering"
   ]
  },
  {
   "cell_type": "code",
   "execution_count": 2,
   "metadata": {},
   "outputs": [],
   "source": [
    "parquet_file = r'./data/data_synced.parquet'\n",
    "df = pd.read_parquet(parquet_file)\n",
    "\n",
    "df_filtered = df.drop(['T1E_x', 'T1E_y', 'T1E_z'], axis=1)\n",
    "df_filtered = df_filtered.drop(df.index[0:16*9*3600+30000])\n",
    "df_filtered = df_filtered.drop(df.index[-1])\n",
    "df_filtered = df_filtered.drop(df.index[16*10*3600:-1])\n",
    "\n",
    "acceleration_data = df_filtered.to_numpy()\n",
    "\n",
    "fs = 16\n",
    "t = np.arange(0, len(acceleration_data))\n",
    "\n",
    "acceleration_data = scs.detrend(acceleration_data, axis=0)"
   ]
  },
  {
   "cell_type": "code",
   "execution_count": 3,
   "metadata": {},
   "outputs": [],
   "source": [
    "nperseg = 1000\n",
    "zp = 8\n",
    "nfft =  nperseg * zp\n",
    "\n",
    "Sxy = np.array([[scs.csd(ch1, ch2, fs, nperseg=nperseg, nfft=nfft)[1] \n",
    "               for ch1 in acceleration_data.T] for ch2 in acceleration_data.T])"
   ]
  },
  {
   "cell_type": "code",
   "execution_count": 4,
   "metadata": {},
   "outputs": [],
   "source": [
    "i = 200\n",
    "order = np.arange(2, 62, 2)\n",
    "\n",
    "stabcrit = {'freq':0.05, 'damping':0.2, 'mac':0.1}\n",
    "s = 2\n",
    "valid_range = {'freq':[0, np.inf], 'damping':[0, 0.3], 'mpc':[0.4, 1]}\n",
    "\n",
    "fs = 16"
   ]
  },
  {
   "cell_type": "code",
   "execution_count": 5,
   "metadata": {},
   "outputs": [
    {
     "name": "stdout",
     "output_type": "stream",
     "text": [
      "*** Covariance-driven SSI algorithm for OMA ***\n",
      "> Establishing Hankel/Toeplitz matrices\n",
      "  >> Correlation estimation\n",
      "  >> Matrix stacking\n",
      "> Establishing weighting matrices\n",
      "  >> Weighting requested: NONE\n",
      "> Computing SVD\n",
      "> Computing state matrix for each order to establish modes\n",
      "> Computation completed\n"
     ]
    },
    {
     "name": "stderr",
     "output_type": "stream",
     "text": [
      "c:\\Users\\marku\\anaconda3\\Lib\\site-packages\\koma\\modal.py:272: RuntimeWarning: divide by zero encountered in scalar divide\n",
      "  eta = (Syy-Sxx)/(2*Sxy)\n",
      "c:\\Users\\marku\\anaconda3\\Lib\\site-packages\\koma\\modal.py:274: RuntimeWarning: invalid value encountered in scalar multiply\n",
      "  lambda1 = (Sxx+Syy)/2 + Sxy*np.sqrt(eta**2+1)\n",
      "c:\\Users\\marku\\anaconda3\\Lib\\site-packages\\koma\\modal.py:275: RuntimeWarning: invalid value encountered in scalar multiply\n",
      "  lambda2 = (Sxx+Syy)/2 - Sxy*np.sqrt(eta**2+1)\n"
     ]
    }
   ],
   "source": [
    "lambd, phi, orders = koma.oma.covssi(acceleration_data, fs, i, order, return_flat=True)\n",
    "lambd_stab, phi_stab, orders_stab, ix_stab = koma.oma.find_stable_poles(lambd, phi, orders, s, stabcrit=stabcrit, valid_range=valid_range, indicator='freq', use_legacy=False)"
   ]
  },
  {
   "cell_type": "code",
   "execution_count": null,
   "metadata": {},
   "outputs": [],
   "source": [
    "fig = koma.plot.stabplot(lambd_stab, orders_stab, psd_freq=f, psd_y=S, frequency_unit='hz', freq_range=[0, 8], damped_freq=False)\n",
    "\n",
    "fig"
   ]
  },
  {
   "cell_type": "code",
   "execution_count": 6,
   "metadata": {},
   "outputs": [],
   "source": [
    "pole_clusterer = koma.clustering.PoleClusterer(lambd_stab, phi_stab, orders_stab, min_cluster_size=7, min_samples=7,\n",
    "                                               scaling={'mac':0.4, 'omega_n':0.8}, normalize_distances=False)\n",
    "\n",
    "prob_threshold = 1.0\n",
    "\n",
    "pole_clusterer.cluster()\n",
    "\n",
    "outputs = pole_clusterer.postprocess(prob_threshold=prob_threshold, normalize_and_maxreal=True)\n",
    "lambd_used, phi_used, orders_stab_used, group_ixs, all_single_ix, probs = outputs\n",
    "\n",
    "xi_auto, omega_n_auto, phi_auto, order_auto, ixs_auto, probs_auto = koma.clustering.group_clusters(*outputs)\n",
    "\n",
    "xi_mean = np.array([np.mean(xi_i) for xi_i in xi_auto])\n",
    "fn_mean = np.array([np.mean(om_i) for om_i in omega_n_auto])/2/np.pi\n",
    "xi_std = np.array([np.std(xi_i) for xi_i in xi_auto])\n",
    "fn_std = np.array([np.std(om_i) for om_i in omega_n_auto])/2/np.pi\n",
    "\n",
    "grouped_ixs = koma.clustering.group_array(all_single_ix, group_ixs)\n",
    "grouped_phis = koma.clustering.group_array(phi_used, group_ixs, axis=1)\n",
    "phi_mean = np.vstack([np.mean(phi_i, axis=1) for phi_i in grouped_phis]).T"
   ]
  },
  {
   "cell_type": "code",
   "execution_count": 7,
   "metadata": {},
   "outputs": [
    {
     "data": {
      "text/plain": [
       "array([0.29987612, 0.38392749, 0.38392754, 0.61968127, 0.61968231,\n",
       "       0.82024045, 1.0875541 , 1.22047103, 1.36068959, 1.61746534,\n",
       "       1.93119273, 2.11135723, 2.44782797, 2.56052181, 2.74577981,\n",
       "       2.99192379, 3.32956465, 3.55722866, 4.53539585, 5.66780205,\n",
       "       5.66796279, 6.74360612])"
      ]
     },
     "execution_count": 7,
     "metadata": {},
     "output_type": "execute_result"
    }
   ],
   "source": [
    "fn_mean"
   ]
  },
  {
   "cell_type": "code",
   "execution_count": 8,
   "metadata": {},
   "outputs": [
    {
     "data": {
      "text/plain": [
       "array([0.29987612, 0.38392749, 0.61968127, 0.82024045, 1.0875541 ,\n",
       "       1.22047103, 1.36068959, 1.61746534, 1.93119273, 2.11135723,\n",
       "       2.44782797, 2.56052181, 2.74577981, 2.99192379, 3.32956465,\n",
       "       3.55722866, 4.53539585, 5.66780205, 6.74360612])"
      ]
     },
     "execution_count": 8,
     "metadata": {},
     "output_type": "execute_result"
    }
   ],
   "source": [
    "fn_mean_2 = np.delete(fn_mean, (2, 4, -2))\n",
    "fn_mean_2"
   ]
  },
  {
   "cell_type": "code",
   "execution_count": 9,
   "metadata": {},
   "outputs": [
    {
     "data": {
      "text/plain": [
       "(57, 19)"
      ]
     },
     "execution_count": 9,
     "metadata": {},
     "output_type": "execute_result"
    }
   ],
   "source": [
    "phi_mean_2 = np.delete(phi_mean, [2, 4, -2], axis=1)\n",
    "\n",
    "phi_mean_2.shape"
   ]
  },
  {
   "cell_type": "code",
   "execution_count": 10,
   "metadata": {},
   "outputs": [
    {
     "data": {
      "text/plain": [
       "array([[ 1.        ,  0.29987612],\n",
       "       [ 2.        ,  0.38392749],\n",
       "       [ 3.        ,  0.61968127],\n",
       "       [ 4.        ,  0.82024045],\n",
       "       [ 5.        ,  1.0875541 ],\n",
       "       [ 6.        ,  1.22047103],\n",
       "       [ 7.        ,  1.36068959],\n",
       "       [ 8.        ,  1.61746534],\n",
       "       [ 9.        ,  1.93119273],\n",
       "       [10.        ,  2.11135723],\n",
       "       [11.        ,  2.44782797],\n",
       "       [12.        ,  2.56052181],\n",
       "       [13.        ,  2.74577981],\n",
       "       [14.        ,  2.99192379],\n",
       "       [15.        ,  3.32956465],\n",
       "       [16.        ,  3.55722866],\n",
       "       [17.        ,  4.53539585],\n",
       "       [18.        ,  5.66780205],\n",
       "       [19.        ,  6.74360612]])"
      ]
     },
     "execution_count": 10,
     "metadata": {},
     "output_type": "execute_result"
    }
   ],
   "source": [
    "indexed_freq_ssi = np.zeros((len(fn_mean_2), 2))\n",
    "indexed_freq_ssi[:,0] = np.array([i for i in range(1, len(fn_mean_2) + 1)])\n",
    "indexed_freq_ssi[:,1] = fn_mean_2\n",
    "indexed_freq_ssi"
   ]
  },
  {
   "cell_type": "code",
   "execution_count": 11,
   "metadata": {},
   "outputs": [
    {
     "name": "stderr",
     "output_type": "stream",
     "text": [
      "C:\\Users\\marku\\AppData\\Local\\Temp\\ipykernel_20920\\3931707156.py:30: ComplexWarning: Casting complex values to real discards the imaginary part\n",
      "  indexed_modes_ssi[:,1:] = phi_mean_2\n"
     ]
    },
    {
     "data": {
      "text/plain": [
       "array([[ 1.10000000e+00,  2.73125099e-02,  9.48690991e-02, ...,\n",
       "        -9.53374159e-02,  1.49451141e-02, -1.87680702e-04],\n",
       "       [ 1.20000000e+00,  2.21052150e-01, -7.89744585e-03, ...,\n",
       "         6.79996482e-03,  1.54828669e-02,  1.16586763e-04],\n",
       "       [ 1.30000000e+00,  1.57142006e-02,  4.64418624e-03, ...,\n",
       "         3.24955759e-02, -2.68554265e-02, -1.60613931e-03],\n",
       "       ...,\n",
       "       [ 2.01000000e+01, -7.00896032e-02,  3.86483425e-03, ...,\n",
       "         3.16718361e-02, -8.81981628e-02,  1.01232525e-03],\n",
       "       [ 2.02000000e+01,  5.14424204e-01, -2.27331091e-02, ...,\n",
       "        -4.04690533e-02,  9.10580717e-02, -7.72056335e-03],\n",
       "       [ 2.03000000e+01,  1.49008476e-01, -2.79219488e-02, ...,\n",
       "         2.57769595e-01, -4.04250689e-01, -1.13097991e-02]])"
      ]
     },
     "execution_count": 11,
     "metadata": {},
     "output_type": "execute_result"
    }
   ],
   "source": [
    "t1w = phi_mean_2[54:, :]\n",
    "phi_mean_2 = np.append(phi_mean_2, t1w, 0)\n",
    "\n",
    "ind = np.array([\n",
    "    16.1, 16.2, 16.3,\n",
    "    15.1, 15.2, 15.3,\n",
    "    9.1,  9.2,  9.3,\n",
    "    3.1,  3.2,  3.3,\n",
    "    10.1, 10.2, 10.3,\n",
    "    4.1,  4.2,  4.3,\n",
    "    11.1, 11.2, 11.3,\n",
    "    5.1,  5.2,  5.3,\n",
    "    12.1, 12.2, 12.3,\n",
    "    6.1,  6.2,  6.3,\n",
    "    13.1, 13.2, 13.3,\n",
    "    7.1,  7.2,  7.3,\n",
    "    14.1, 14.2, 14.3,\n",
    "    8.1,  8.2,  8.3,\n",
    "    19.1, 19.2, 19.3,\n",
    "    17.1, 17.2, 17.3,\n",
    "    20.1, 20.2, 20.3,\n",
    "    18.1, 18.2, 18.3,\n",
    "    1.1,  1.2,  1.3,\n",
    "    2.1,  2.2,  2.3,\n",
    "])\n",
    "\n",
    "indexed_modes_ssi = np.zeros((60, 20))\n",
    "\n",
    "indexed_modes_ssi[:,0] = ind\n",
    "indexed_modes_ssi[:,1:] = phi_mean_2\n",
    "\n",
    "indexed_modes_ssi = indexed_modes_ssi[indexed_modes_ssi[:, 0].argsort()]\n",
    "\n",
    "indexed_modes_ssi"
   ]
  },
  {
   "cell_type": "code",
   "execution_count": 12,
   "metadata": {},
   "outputs": [
    {
     "data": {
      "text/plain": [
       "(60, 19)"
      ]
     },
     "execution_count": 12,
     "metadata": {},
     "output_type": "execute_result"
    }
   ],
   "source": [
    "ordered_modes_ssi = indexed_modes_ssi[:, 1:]\n",
    "ordered_modes_ssi.shape"
   ]
  },
  {
   "cell_type": "code",
   "execution_count": 13,
   "metadata": {},
   "outputs": [],
   "source": [
    "np.save(\"results/grenland_bridge_frequencies.npy\", indexed_freq_ssi)\n",
    "np.savetxt(\"results/grenland_bridge_frequencies.txt\", indexed_freq_ssi)\n",
    "np.save(\"results/grenland_bridge_modes.npy\", ordered_modes_ssi)\n",
    "np.savetxt(\"results/grenland_bridge_modes.txt\", ordered_modes_ssi)"
   ]
  }
 ],
 "metadata": {
  "kernelspec": {
   "display_name": "base",
   "language": "python",
   "name": "python3"
  },
  "language_info": {
   "codemirror_mode": {
    "name": "ipython",
    "version": 3
   },
   "file_extension": ".py",
   "mimetype": "text/x-python",
   "name": "python",
   "nbconvert_exporter": "python",
   "pygments_lexer": "ipython3",
   "version": "3.11.5"
  }
 },
 "nbformat": 4,
 "nbformat_minor": 2
}
